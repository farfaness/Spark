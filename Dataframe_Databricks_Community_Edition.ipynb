{
  "nbformat": 4,
  "nbformat_minor": 0,
  "metadata": {
    "kernelspec": {
      "display_name": "Python 3",
      "language": "python",
      "name": "python3"
    },
    "language_info": {
      "mimetype": "text/x-python",
      "name": "python",
      "pygments_lexer": "ipython3",
      "codemirror_mode": {
        "name": "ipython",
        "version": 3
      },
      "version": "3.6.8",
      "nbconvert_exporter": "python",
      "file_extension": ".py"
    },
    "name": "Dataframe",
    "notebookId": 4433620899555914,
    "colab": {
      "name": "Dataframe_Databricks_Community_Edition.ipynb",
      "provenance": [],
      "collapsed_sections": [],
      "include_colab_link": true
    }
  },
  "cells": [
    {
      "cell_type": "markdown",
      "metadata": {
        "id": "view-in-github",
        "colab_type": "text"
      },
      "source": [
        "<a href=\"https://colab.research.google.com/github/farfaness/Spark/blob/master/Dataframe_Databricks_Community_Edition.ipynb\" target=\"_parent\"><img src=\"https://colab.research.google.com/assets/colab-badge.svg\" alt=\"Open In Colab\"/></a>"
      ]
    },
    {
      "cell_type": "code",
      "metadata": {
        "collapsed": true,
        "id": "6HpfWYruYJd9",
        "colab_type": "code",
        "colab": {},
        "outputId": "5b339d27-d114-4196-f153-78aea22d41db"
      },
      "source": [
        "from pyspark.sql import SparkSession # Importer l'objet SparkSession (inutile dans le cas du Notebook Databricks)"
      ],
      "execution_count": 0,
      "outputs": [
        {
          "output_type": "display_data",
          "data": {
            "text/html": [
              "<style scoped>\n",
              "  .ansiout {\n",
              "    display: block;\n",
              "    unicode-bidi: embed;\n",
              "    white-space: pre-wrap;\n",
              "    word-wrap: break-word;\n",
              "    word-break: break-all;\n",
              "    font-family: \"Source Code Pro\", \"Menlo\", monospace;;\n",
              "    font-size: 13px;\n",
              "    color: #555;\n",
              "    margin-left: 4px;\n",
              "    line-height: 19px;\n",
              "  }\n",
              "</style>\n",
              "<div class=\"ansiout\"></div>"
            ]
          },
          "metadata": {
            "tags": []
          }
        }
      ]
    },
    {
      "cell_type": "code",
      "metadata": {
        "id": "Ixu3ztmlYJeD",
        "colab_type": "code",
        "colab": {},
        "outputId": "c32762d2-17a9-4b5a-f87a-87d935921495"
      },
      "source": [
        "# On instantie la SparkSession : cet objet est déja instantié dans Databricks.\n",
        "# Il va nous suivre tout au long de l'application\n",
        "# Les options de configurations sont infinies : elles peuvent toucher le contexte d'execution, \n",
        "# le nombre de noeuds utilisés... \n",
        "# Ici nous précisons le minimum : Le nom de l'application et le master, c'est à dire l'allocateur de ressources.\n",
        "# En disant local on va utiliser l'allocateur de ressources interne à Spark : Spark Standalone. \n",
        "# Si vous lancez votre job Spark sur un cluster Hadoop, vous pouvez utiliser yarn\n",
        "spark = SparkSession.builder.appName(\"First App\").master(\"local\").getOrCreate()"
      ],
      "execution_count": 0,
      "outputs": [
        {
          "output_type": "display_data",
          "data": {
            "text/html": [
              "<style scoped>\n",
              "  .ansiout {\n",
              "    display: block;\n",
              "    unicode-bidi: embed;\n",
              "    white-space: pre-wrap;\n",
              "    word-wrap: break-word;\n",
              "    word-break: break-all;\n",
              "    font-family: \"Source Code Pro\", \"Menlo\", monospace;;\n",
              "    font-size: 13px;\n",
              "    color: #555;\n",
              "    margin-left: 4px;\n",
              "    line-height: 19px;\n",
              "  }\n",
              "</style>\n",
              "<div class=\"ansiout\"></div>"
            ]
          },
          "metadata": {
            "tags": []
          }
        }
      ]
    },
    {
      "cell_type": "code",
      "metadata": {
        "id": "dHCUvtT8YJeG",
        "colab_type": "code",
        "colab": {},
        "outputId": "34fe8925-4811-434f-f446-1cea820fe7a6"
      },
      "source": [
        "# Le sparkContext est l'outil qui permet d'explorer le plus bas niveau API de spark : la RDD\n",
        "sc = spark.sparkContext"
      ],
      "execution_count": 0,
      "outputs": [
        {
          "output_type": "display_data",
          "data": {
            "text/html": [
              "<style scoped>\n",
              "  .ansiout {\n",
              "    display: block;\n",
              "    unicode-bidi: embed;\n",
              "    white-space: pre-wrap;\n",
              "    word-wrap: break-word;\n",
              "    word-break: break-all;\n",
              "    font-family: \"Source Code Pro\", \"Menlo\", monospace;;\n",
              "    font-size: 13px;\n",
              "    color: #555;\n",
              "    margin-left: 4px;\n",
              "    line-height: 19px;\n",
              "  }\n",
              "</style>\n",
              "<div class=\"ansiout\"></div>"
            ]
          },
          "metadata": {
            "tags": []
          }
        }
      ]
    },
    {
      "cell_type": "markdown",
      "metadata": {
        "id": "tZPJXtf3YJeJ",
        "colab_type": "text"
      },
      "source": [
        "#### Charger la donnée"
      ]
    },
    {
      "cell_type": "code",
      "metadata": {
        "id": "oeSB6pkZYJeJ",
        "colab_type": "code",
        "colab": {},
        "outputId": "dc96fcb4-ca4a-4be4-a80f-684829204703"
      },
      "source": [
        "bateaux = spark.read.parquet(\"/FileStore/tables/2c443e0c8b99190f_c98fa37700000000_457998991_data_0__1__1_-c0514.parq\")"
      ],
      "execution_count": 0,
      "outputs": [
        {
          "output_type": "display_data",
          "data": {
            "text/html": [
              "<style scoped>\n",
              "  .ansiout {\n",
              "    display: block;\n",
              "    unicode-bidi: embed;\n",
              "    white-space: pre-wrap;\n",
              "    word-wrap: break-word;\n",
              "    word-break: break-all;\n",
              "    font-family: \"Source Code Pro\", \"Menlo\", monospace;;\n",
              "    font-size: 13px;\n",
              "    color: #555;\n",
              "    margin-left: 4px;\n",
              "    line-height: 19px;\n",
              "  }\n",
              "</style>\n",
              "<div class=\"ansiout\"></div>"
            ]
          },
          "metadata": {
            "tags": []
          }
        }
      ]
    },
    {
      "cell_type": "code",
      "metadata": {
        "id": "YhOoxJs2YJeM",
        "colab_type": "code",
        "colab": {},
        "outputId": "9e2e04e2-7a50-47c1-f6af-b47340f2fed8"
      },
      "source": [
        "bateaux.show()"
      ],
      "execution_count": 0,
      "outputs": [
        {
          "output_type": "display_data",
          "data": {
            "text/html": [
              "<style scoped>\n",
              "  .ansiout {\n",
              "    display: block;\n",
              "    unicode-bidi: embed;\n",
              "    white-space: pre-wrap;\n",
              "    word-wrap: break-word;\n",
              "    word-break: break-all;\n",
              "    font-family: \"Source Code Pro\", \"Menlo\", monospace;;\n",
              "    font-size: 13px;\n",
              "    color: #555;\n",
              "    margin-left: 4px;\n",
              "    line-height: 19px;\n",
              "  }\n",
              "</style>\n",
              "<div class=\"ansiout\">+---------+---------+----+------------------+-------------------+-------------+-----+-------+--------------------+\n",
              "id_vessel|     mmsi|type|               lat|                lon|timestamp_pos|speed|heading|             payload|\n",
              "+---------+---------+----+------------------+-------------------+-------------+-----+-------+--------------------+\n",
              "     4440|        0|  35|              null|               null|1416006922000| null|   null|[5C 73 3A 72 4F 5...|\n",
              "   121165|412417168|  30|28.596466666666668|          122.41604|1416009251000|  7.8|   null|[5C 73 3A 72 4F 5...|\n",
              "   124436|412688540|  38|          39.01532|          121.70704|1416009253000|  0.0|   null|[5C 73 3A 72 4F 5...|\n",
              "   123311|563610000|  70| 49.08342666666667|        -123.345925|1416009253000| 13.3|    209|[5C 73 3A 72 4F 5...|\n",
              "    63048|413807776|  70|         22.217245| 114.32744166666667|1416009253000|  5.6|   null|[5C 73 3A 72 4F 5...|\n",
              "    60202|244690585|  51| 52.18333833333333|  4.996126666666667|1416009251000|  0.0|   null|[5C 73 3A 72 4F 5...|\n",
              "    18884|412464280|  52|22.565291666666667|         114.273425|1416009253000|  3.8|    268|[5C 73 3A 72 4F 5...|\n",
              "     6899|244710042|  80|          51.81129|           4.611525|1416009253000|  0.0|   null|[5C 73 3A 72 4F 5...|\n",
              "    65727|636016121|  80|           12.4185|         -70.130165|1416009253000|  0.0|     93|[5C 73 3A 72 4F 5...|\n",
              "    33529|258310000|  89| 63.43951166666667| 10.350478333333333|1416009251000|  0.0|    353|[5C 73 3A 72 4F 5...|\n",
              "    35619|228284800|  52|          49.47528|           0.132895|1416009253000|  0.0|    278|[5C 73 3A 72 4F 5...|\n",
              "    41040|636091848|  71|27.900001666666668|-13.668798333333333|1416009253000| 16.3|    225|[5C 73 3A 72 4F 5...|\n",
              "   113862|412565686|  30| 39.71163166666667|          119.82036|1416009253000|  0.0|   null|[5C 73 3A 72 4F 5...|\n",
              "     6912|357361000|  70|31.990001666666668|          120.63421|1416009251000|  0.1|    277|[5C 73 3A 72 4F 5...|\n",
              "   103343|432620000|  70|-3.715298333333333|           114.4597|1416006921000|  0.0|     21|[5C 73 3A 72 4F 5...|\n",
              "    27883|211494070|  80|          51.83454|            4.48183|1416009253000|  7.7|   null|[5C 73 3A 72 4F 5...|\n",
              "    12186|432876000|  70|         36.966695| -76.42965166666667|1416009253000|  0.0|     42|[5C 73 3A 72 4F 5...|\n",
              "   184842|352841000|  89| 42.56032666666667| 141.71708166666667|1416009251000|  3.1|    310|[5C 73 3A 72 4F 5...|\n",
              "    31003|244690618|  79|          51.86452|  6.063571666666666|1416009253000|  0.0|   null|[5C 73 3A 72 4F 5...|\n",
              "    31003|244690618|  79|          51.86452|  6.063571666666666|1416009253000|  0.0|   null|[5C 73 3A 72 4F 5...|\n",
              "+---------+---------+----+------------------+-------------------+-------------+-----+-------+--------------------+\n",
              "only showing top 20 rows\n",
              "\n",
              "</div>"
            ]
          },
          "metadata": {
            "tags": []
          }
        }
      ]
    },
    {
      "cell_type": "markdown",
      "metadata": {
        "id": "IIdrKW3pYJeO",
        "colab_type": "text"
      },
      "source": [
        "#### Afficher le nombre d'éléments du DF"
      ]
    },
    {
      "cell_type": "code",
      "metadata": {
        "id": "kfhN_lVxYJeO",
        "colab_type": "code",
        "colab": {},
        "outputId": "ab60d761-612f-4430-eee5-23b322ad7c71"
      },
      "source": [
        "bateaux.count()"
      ],
      "execution_count": 0,
      "outputs": [
        {
          "output_type": "display_data",
          "data": {
            "text/html": [
              "<style scoped>\n",
              "  .ansiout {\n",
              "    display: block;\n",
              "    unicode-bidi: embed;\n",
              "    white-space: pre-wrap;\n",
              "    word-wrap: break-word;\n",
              "    word-break: break-all;\n",
              "    font-family: \"Source Code Pro\", \"Menlo\", monospace;;\n",
              "    font-size: 13px;\n",
              "    color: #555;\n",
              "    margin-left: 4px;\n",
              "    line-height: 19px;\n",
              "  }\n",
              "</style>\n",
              "<div class=\"ansiout\"><span class=\"ansired\">Out[</span><span class=\"ansired\">13</span><span class=\"ansired\">]: </span>314943</div>"
            ]
          },
          "metadata": {
            "tags": []
          }
        }
      ]
    },
    {
      "cell_type": "markdown",
      "metadata": {
        "id": "W0be8dMTYJeQ",
        "colab_type": "text"
      },
      "source": [
        "#### Afficher le type des éléments du DF"
      ]
    },
    {
      "cell_type": "code",
      "metadata": {
        "id": "ROUNcLQBYJeR",
        "colab_type": "code",
        "colab": {},
        "outputId": "3985d717-84ca-4f59-e7f1-f44b7dfde460"
      },
      "source": [
        "bateaux.schema"
      ],
      "execution_count": 0,
      "outputs": [
        {
          "output_type": "display_data",
          "data": {
            "text/html": [
              "<style scoped>\n",
              "  .ansiout {\n",
              "    display: block;\n",
              "    unicode-bidi: embed;\n",
              "    white-space: pre-wrap;\n",
              "    word-wrap: break-word;\n",
              "    word-break: break-all;\n",
              "    font-family: \"Source Code Pro\", \"Menlo\", monospace;;\n",
              "    font-size: 13px;\n",
              "    color: #555;\n",
              "    margin-left: 4px;\n",
              "    line-height: 19px;\n",
              "  }\n",
              "</style>\n",
              "<div class=\"ansiout\"><span class=\"ansired\">Out[</span><span class=\"ansired\">14</span><span class=\"ansired\">]: </span>StructType(List(StructField(id_vessel,LongType,true),StructField(mmsi,LongType,true),StructField(type,IntegerType,true),StructField(lat,DoubleType,true),StructField(lon,DoubleType,true),StructField(timestamp_pos,LongType,true),StructField(speed,DoubleType,true),StructField(heading,IntegerType,true),StructField(payload,BinaryType,true)))</div>"
            ]
          },
          "metadata": {
            "tags": []
          }
        }
      ]
    },
    {
      "cell_type": "markdown",
      "metadata": {
        "id": "0HYb4-4WYJeT",
        "colab_type": "text"
      },
      "source": [
        "#### Afficher le schéma du DF"
      ]
    },
    {
      "cell_type": "code",
      "metadata": {
        "id": "2vc4bgL3YJeU",
        "colab_type": "code",
        "colab": {},
        "outputId": "5e5ca51f-4d96-45f8-d198-eaa5763e6edf"
      },
      "source": [
        "bateaux.printSchema()"
      ],
      "execution_count": 0,
      "outputs": [
        {
          "output_type": "display_data",
          "data": {
            "text/html": [
              "<style scoped>\n",
              "  .ansiout {\n",
              "    display: block;\n",
              "    unicode-bidi: embed;\n",
              "    white-space: pre-wrap;\n",
              "    word-wrap: break-word;\n",
              "    word-break: break-all;\n",
              "    font-family: \"Source Code Pro\", \"Menlo\", monospace;;\n",
              "    font-size: 13px;\n",
              "    color: #555;\n",
              "    margin-left: 4px;\n",
              "    line-height: 19px;\n",
              "  }\n",
              "</style>\n",
              "<div class=\"ansiout\">root\n",
              "-- id_vessel: long (nullable = true)\n",
              "-- mmsi: long (nullable = true)\n",
              "-- type: integer (nullable = true)\n",
              "-- lat: double (nullable = true)\n",
              "-- lon: double (nullable = true)\n",
              "-- timestamp_pos: long (nullable = true)\n",
              "-- speed: double (nullable = true)\n",
              "-- heading: integer (nullable = true)\n",
              "-- payload: binary (nullable = true)\n",
              "\n",
              "</div>"
            ]
          },
          "metadata": {
            "tags": []
          }
        }
      ]
    },
    {
      "cell_type": "markdown",
      "metadata": {
        "id": "JGmPZsshYJeW",
        "colab_type": "text"
      },
      "source": [
        "#### Ordonnez les bateaux par vitesse"
      ]
    },
    {
      "cell_type": "code",
      "metadata": {
        "id": "-IRCsspRYJeW",
        "colab_type": "code",
        "colab": {},
        "outputId": "bc003d54-b26f-4a4e-db52-02e3caccf062"
      },
      "source": [
        "# Rappel : on ne peut modifier un RDD, ni une DataFrame. Ici nous avons donc créer une nouvelle DF et détruit l'ancienne\n",
        "# Si on veut garder la trace de l'ancienne il est important de charger la nouvelle dans une autre variable\n",
        "bateaux = bateaux.orderBy(\"speed\")"
      ],
      "execution_count": 0,
      "outputs": [
        {
          "output_type": "display_data",
          "data": {
            "text/html": [
              "<style scoped>\n",
              "  .ansiout {\n",
              "    display: block;\n",
              "    unicode-bidi: embed;\n",
              "    white-space: pre-wrap;\n",
              "    word-wrap: break-word;\n",
              "    word-break: break-all;\n",
              "    font-family: \"Source Code Pro\", \"Menlo\", monospace;;\n",
              "    font-size: 13px;\n",
              "    color: #555;\n",
              "    margin-left: 4px;\n",
              "    line-height: 19px;\n",
              "  }\n",
              "</style>\n",
              "<div class=\"ansiout\"></div>"
            ]
          },
          "metadata": {
            "tags": []
          }
        }
      ]
    },
    {
      "cell_type": "markdown",
      "metadata": {
        "id": "8JcodTt0YJeY",
        "colab_type": "text"
      },
      "source": [
        "#### Pour disposer d'une date plus lisible, rajoutez la colonne \"timestamp_readable\"\n",
        "#### Pour cela, il vous faudra d'abord transformer le timestamp en secondes (timestamp_pos est en ms) et ensuite convertir en format date"
      ]
    },
    {
      "cell_type": "code",
      "metadata": {
        "id": "WtvQPZrHYJeZ",
        "colab_type": "code",
        "colab": {},
        "outputId": "4e9c382a-9676-4581-ead3-b00c75adbdd9"
      },
      "source": [
        "bateaux_date = bateaux.withColumn(\"timestamp_readable\", (bateaux[\"timestamp_pos\"]/1000).cast(\"timestamp\"))"
      ],
      "execution_count": 0,
      "outputs": [
        {
          "output_type": "display_data",
          "data": {
            "text/html": [
              "<style scoped>\n",
              "  .ansiout {\n",
              "    display: block;\n",
              "    unicode-bidi: embed;\n",
              "    white-space: pre-wrap;\n",
              "    word-wrap: break-word;\n",
              "    word-break: break-all;\n",
              "    font-family: \"Source Code Pro\", \"Menlo\", monospace;;\n",
              "    font-size: 13px;\n",
              "    color: #555;\n",
              "    margin-left: 4px;\n",
              "    line-height: 19px;\n",
              "  }\n",
              "</style>\n",
              "<div class=\"ansiout\"></div>"
            ]
          },
          "metadata": {
            "tags": []
          }
        }
      ]
    },
    {
      "cell_type": "code",
      "metadata": {
        "scrolled": true,
        "id": "4z5BiyzXYJeb",
        "colab_type": "code",
        "colab": {},
        "outputId": "dc978fc5-159e-4532-8380-c479403475c4"
      },
      "source": [
        "bateaux_date.show()"
      ],
      "execution_count": 0,
      "outputs": [
        {
          "output_type": "display_data",
          "data": {
            "text/html": [
              "<style scoped>\n",
              "  .ansiout {\n",
              "    display: block;\n",
              "    unicode-bidi: embed;\n",
              "    white-space: pre-wrap;\n",
              "    word-wrap: break-word;\n",
              "    word-break: break-all;\n",
              "    font-family: \"Source Code Pro\", \"Menlo\", monospace;;\n",
              "    font-size: 13px;\n",
              "    color: #555;\n",
              "    margin-left: 4px;\n",
              "    line-height: 19px;\n",
              "  }\n",
              "</style>\n",
              "<div class=\"ansiout\">+---------+---------+----+------------------+-------------------+-------------+-----+-------+--------------------+-------------------+\n",
              "id_vessel|     mmsi|type|               lat|                lon|timestamp_pos|speed|heading|             payload| timestamp_readable|\n",
              "+---------+---------+----+------------------+-------------------+-------------+-----+-------+--------------------+-------------------+\n",
              "    70244|710012740|  90|              null|               null|1416008896000| null|    195|[5C 73 3A 72 4F 5...|2014-11-14 23:48:16|\n",
              "    96190|250104640|  30|52.171166666666664| -6.587388333333333|1416007672000| null|    351|[5C 73 3A 72 4F 5...|2014-11-14 23:27:52|\n",
              "    96190|250104640|  30|52.171146666666665| -6.587241666666666|1416009253000| null|    351|[5C 73 3A 72 4F 5...|2014-11-14 23:54:13|\n",
              "    86972|367136250|  54|              null|               null|1416009378000| null|   null|[5C 73 3A 72 4F 5...|2014-11-14 23:56:18|\n",
              "   116462|244615906|  99|              null|               null|1416009533000| null|   null|[5C 73 3A 72 4F 5...|2014-11-14 23:58:53|\n",
              "     4440|        0|  35|              null|               null|1416006922000| null|   null|[5C 73 3A 72 4F 5...|2014-11-14 23:15:22|\n",
              "    17021|244670016|  79|              null|               null|1416009536000| null|   null|[5C 73 3A 72 4F 5...|2014-11-14 23:58:56|\n",
              "   126459|366858820|  69|         39.285665|          -76.61075|1416006797000| null|   null|[5C 73 3A 72 4F 5...|2014-11-14 23:13:17|\n",
              "    70391|412358940|  70|29.935871666666667| 121.68577666666667|1416006456000| null|   null|[5C 73 3A 72 4F 5...|2014-11-14 23:07:36|\n",
              "   128314|273196000|  10| 47.13505333333333| 38.961803333333336|1416006797000| null|   null|[5C 73 3A 72 4F 5...|2014-11-14 23:13:17|\n",
              "     9874|273445400|  52| 44.72857166666667|  37.78629333333333|1416006451000| null|   null|[5C 73 3A 72 4F 5...|2014-11-14 23:07:31|\n",
              "    61519|413300330|  70| 37.66363166666667|         120.309705|1416007303000| null|     93|[5C 73 3A 72 4F 5...|2014-11-14 23:21:43|\n",
              "    60851|431301253|  52| 34.33177166666667| 133.03930166666666|1416006448000| null|   null|[5C 73 3A 72 4F 5...|2014-11-14 23:07:28|\n",
              "   159160|413460940|null|24.432866666666666| 117.88066666666667|1416007596000| null|   null|[5C 73 3A 72 4F 5...|2014-11-14 23:26:36|\n",
              "   129426|413888231|  70|38.856276666666666| 118.03631166666666|1416008637000| null|   null|[5C 73 3A 72 4F 5...|2014-11-14 23:43:57|\n",
              "    38742|273353280|  52| 42.75065333333333| 133.08373833333334|1416006797000| null|     21|[5C 73 3A 72 4F 5...|2014-11-14 23:13:17|\n",
              "   192782|755002986|  52|-32.94766666666667|-60.595751666666665|1416009361000| null|    199|[5C 73 3A 72 4F 5...|2014-11-14 23:56:01|\n",
              "    19409|413400540|  61|            29.993| 122.04246166666667|1416007303000| null|     73|[5C 73 3A 72 4F 5...|2014-11-14 23:21:43|\n",
              "    54103|413044990|  55|29.952031666666667| 121.71950666666666|1416007668000| null|   null|[5C 73 3A 72 4F 5...|2014-11-14 23:27:48|\n",
              "    54103|413044990|  55|29.952031666666667| 121.71950666666666|1416007668000| null|   null|[5C 73 3A 72 4F 5...|2014-11-14 23:27:48|\n",
              "+---------+---------+----+------------------+-------------------+-------------+-----+-------+--------------------+-------------------+\n",
              "only showing top 20 rows\n",
              "\n",
              "</div>"
            ]
          },
          "metadata": {
            "tags": []
          }
        }
      ]
    },
    {
      "cell_type": "markdown",
      "metadata": {
        "id": "YAGn044UYJed",
        "colab_type": "text"
      },
      "source": [
        "#### Il est possible de créer un nouveau dataframe contenant des statistiques sur un dataframe"
      ]
    },
    {
      "cell_type": "code",
      "metadata": {
        "id": "BepDLsBoYJed",
        "colab_type": "code",
        "colab": {},
        "outputId": "942836b2-99f3-41f0-d180-16ddd6796799"
      },
      "source": [
        "description_df = bateaux.describe()\n",
        "description_df.show()"
      ],
      "execution_count": 0,
      "outputs": [
        {
          "output_type": "display_data",
          "data": {
            "text/html": [
              "<style scoped>\n",
              "  .ansiout {\n",
              "    display: block;\n",
              "    unicode-bidi: embed;\n",
              "    white-space: pre-wrap;\n",
              "    word-wrap: break-word;\n",
              "    word-break: break-all;\n",
              "    font-family: \"Source Code Pro\", \"Menlo\", monospace;;\n",
              "    font-size: 13px;\n",
              "    color: #555;\n",
              "    margin-left: 4px;\n",
              "    line-height: 19px;\n",
              "  }\n",
              "</style>\n",
              "<div class=\"ansiout\">+-------+------------------+--------------------+-----------------+-----------------+-------------------+--------------------+-----------------+------------------+\n",
              "summary|         id_vessel|                mmsi|             type|              lat|                lon|       timestamp_pos|            speed|           heading|\n",
              "+-------+------------------+--------------------+-----------------+-----------------+-------------------+--------------------+-----------------+------------------+\n",
              "  count|            314943|              314943|           306227|           314734|             314734|              314943|           313477|            165448|\n",
              "   mean| 84044.48684365107| 3.710984933372325E8|62.17296319397049|31.64549660628215| 43.891339197629215|1.416007766095668...|2.968054115612944| 175.7893416662637|\n",
              " stddev|104847.51303519521|1.2919476616551399E8|21.44858919019196|22.63829025259374|  78.35610533433496|  1033950.6197545934|5.251255455795127|106.90464686871879|\n",
              "    min|                 1|                   0|                1|       -88.799435|-179.97899833333332|       1416006001000|              0.0|                 0|\n",
              "    max|           1454230|          1063852744|              255|86.93066166666667|           179.9999|       1416009595000|            102.0|               359|\n",
              "+-------+------------------+--------------------+-----------------+-----------------+-------------------+--------------------+-----------------+------------------+\n",
              "\n",
              "</div>"
            ]
          },
          "metadata": {
            "tags": []
          }
        }
      ]
    },
    {
      "cell_type": "markdown",
      "metadata": {
        "id": "iA3nHpnSYJef",
        "colab_type": "text"
      },
      "source": [
        "#### Filtrer le dataframe bateaux sur un bateau en particulier"
      ]
    },
    {
      "cell_type": "code",
      "metadata": {
        "id": "djzNyr_yYJeg",
        "colab_type": "code",
        "colab": {},
        "outputId": "d0311b44-313c-4802-a0ce-2bccf5b41e32"
      },
      "source": [
        "monBateau = bateaux.filter(\"id_vessel = 28052\")\n",
        "monBateau.show()"
      ],
      "execution_count": 0,
      "outputs": [
        {
          "output_type": "display_data",
          "data": {
            "text/html": [
              "<style scoped>\n",
              "  .ansiout {\n",
              "    display: block;\n",
              "    unicode-bidi: embed;\n",
              "    white-space: pre-wrap;\n",
              "    word-wrap: break-word;\n",
              "    word-break: break-all;\n",
              "    font-family: \"Source Code Pro\", \"Menlo\", monospace;;\n",
              "    font-size: 13px;\n",
              "    color: #555;\n",
              "    margin-left: 4px;\n",
              "    line-height: 19px;\n",
              "  }\n",
              "</style>\n",
              "<div class=\"ansiout\">+---------+---------+----+------------------+------------------+-------------+-----+-------+--------------------+\n",
              "id_vessel|     mmsi|type|               lat|               lon|timestamp_pos|speed|heading|             payload|\n",
              "+---------+---------+----+------------------+------------------+-------------+-----+-------+--------------------+\n",
              "    28052|345971158|  50|18.437848333333335|-93.18948666666667|1416007969000|  0.0|   null|[5C 73 3A 72 4F 5...|\n",
              "    28052|345971158|  50|18.437856666666665|        -93.189515|1416009589000|  0.0|   null|[5C 73 3A 72 4F 5...|\n",
              "    28052|345971158|  50|18.437848333333335|        -93.189505|1416008808000|  0.0|   null|[5C 73 3A 72 4F 5...|\n",
              "    28052|345971158|  50|18.437866666666668|-93.18950666666667|1416006418000|  0.0|   null|[5C 73 3A 72 4F 5...|\n",
              "    28052|345971158|  50|18.437866666666668|-93.18950333333333|1416007139000|  0.0|   null|[5C 73 3A 72 4F 5...|\n",
              "+---------+---------+----+------------------+------------------+-------------+-----+-------+--------------------+\n",
              "\n",
              "</div>"
            ]
          },
          "metadata": {
            "tags": []
          }
        }
      ]
    },
    {
      "cell_type": "markdown",
      "metadata": {
        "id": "ruTZ-kUbYJeh",
        "colab_type": "text"
      },
      "source": [
        "#### Le nombre de bateaux avec une vitesse == 0 et la fraction que cela représente sur par rapport au nombre total"
      ]
    },
    {
      "cell_type": "markdown",
      "metadata": {
        "id": "GhtO7UZcYJek",
        "colab_type": "text"
      },
      "source": [
        "#### Les types distincts de bateaux"
      ]
    },
    {
      "cell_type": "code",
      "metadata": {
        "id": "v6lOfveYYJek",
        "colab_type": "code",
        "colab": {},
        "outputId": "0e040ba6-619a-450a-827e-85c0856632a4"
      },
      "source": [
        "bateaux[[\"type\"]].dropDuplicates().show()"
      ],
      "execution_count": 0,
      "outputs": [
        {
          "output_type": "display_data",
          "data": {
            "text/html": [
              "<style scoped>\n",
              "  .ansiout {\n",
              "    display: block;\n",
              "    unicode-bidi: embed;\n",
              "    white-space: pre-wrap;\n",
              "    word-wrap: break-word;\n",
              "    word-break: break-all;\n",
              "    font-family: \"Source Code Pro\", \"Menlo\", monospace;;\n",
              "    font-size: 13px;\n",
              "    color: #555;\n",
              "    margin-left: 4px;\n",
              "    line-height: 19px;\n",
              "  }\n",
              "</style>\n",
              "<div class=\"ansiout\">+----+\n",
              "type|\n",
              "+----+\n",
              " 148|\n",
              "  31|\n",
              "  85|\n",
              " 137|\n",
              "  65|\n",
              "  53|\n",
              " 255|\n",
              " 133|\n",
              "  78|\n",
              " 155|\n",
              "  34|\n",
              " 193|\n",
              " 115|\n",
              " 101|\n",
              "  81|\n",
              " 210|\n",
              " 183|\n",
              "  28|\n",
              "  76|\n",
              "  26|\n",
              "+----+\n",
              "only showing top 20 rows\n",
              "\n",
              "</div>"
            ]
          },
          "metadata": {
            "tags": []
          }
        }
      ]
    },
    {
      "cell_type": "markdown",
      "metadata": {
        "id": "HGmnOrXGYJem",
        "colab_type": "text"
      },
      "source": [
        "#### On affiche la moyenne de la vitesse des bateaux sans tenir compte des bateaux a l'arret"
      ]
    },
    {
      "cell_type": "code",
      "metadata": {
        "collapsed": true,
        "id": "tK2LYEZ4YJem",
        "colab_type": "code",
        "colab": {},
        "outputId": "a59fb751-d872-4e79-a0f3-ff736f5d97fd"
      },
      "source": [
        "enmarche = bateaux.filter(\"speed !=0 \").groupBy(\"id_vessel\").mean(\"speed\")"
      ],
      "execution_count": 0,
      "outputs": [
        {
          "output_type": "display_data",
          "data": {
            "text/html": [
              "<style scoped>\n",
              "  .ansiout {\n",
              "    display: block;\n",
              "    unicode-bidi: embed;\n",
              "    white-space: pre-wrap;\n",
              "    word-wrap: break-word;\n",
              "    word-break: break-all;\n",
              "    font-family: \"Source Code Pro\", \"Menlo\", monospace;;\n",
              "    font-size: 13px;\n",
              "    color: #555;\n",
              "    margin-left: 4px;\n",
              "    line-height: 19px;\n",
              "  }\n",
              "</style>\n",
              "<div class=\"ansiout\"></div>"
            ]
          },
          "metadata": {
            "tags": []
          }
        }
      ]
    },
    {
      "cell_type": "code",
      "metadata": {
        "id": "hsdAAcyxYJeo",
        "colab_type": "code",
        "colab": {},
        "outputId": "44a01d13-dc69-4cf9-fb87-37a4af61704a"
      },
      "source": [
        "enmarche.show()"
      ],
      "execution_count": 0,
      "outputs": [
        {
          "output_type": "display_data",
          "data": {
            "text/html": [
              "<style scoped>\n",
              "  .ansiout {\n",
              "    display: block;\n",
              "    unicode-bidi: embed;\n",
              "    white-space: pre-wrap;\n",
              "    word-wrap: break-word;\n",
              "    word-break: break-all;\n",
              "    font-family: \"Source Code Pro\", \"Menlo\", monospace;;\n",
              "    font-size: 13px;\n",
              "    color: #555;\n",
              "    margin-left: 4px;\n",
              "    line-height: 19px;\n",
              "  }\n",
              "</style>\n",
              "<div class=\"ansiout\">+---------+-------------------+\n",
              "id_vessel|         avg(speed)|\n",
              "+---------+-------------------+\n",
              "    15237|              0.125|\n",
              "     9233|                0.1|\n",
              "    30428|0.18000000000000002|\n",
              "    13452|0.18000000000000002|\n",
              "    92741|                0.1|\n",
              "     9715|                0.1|\n",
              "   133382|0.13333333333333333|\n",
              "    29089|0.16666666666666666|\n",
              "    86941|               0.26|\n",
              "    84272|                0.1|\n",
              "     7225|                0.1|\n",
              "    54596|                0.1|\n",
              "    55845|                0.1|\n",
              "    18147|0.21428571428571427|\n",
              "   188945|0.10000000000000002|\n",
              "    55474|                0.1|\n",
              "    60691|                0.1|\n",
              "    55604|                0.1|\n",
              "    54536|                0.1|\n",
              "    74783|                0.1|\n",
              "+---------+-------------------+\n",
              "only showing top 20 rows\n",
              "\n",
              "</div>"
            ]
          },
          "metadata": {
            "tags": []
          }
        }
      ]
    },
    {
      "cell_type": "markdown",
      "metadata": {
        "id": "L5s1k3j5YJes",
        "colab_type": "text"
      },
      "source": [
        "#### On affiche la date min puis  la date max pour chaque bateau"
      ]
    },
    {
      "cell_type": "code",
      "metadata": {
        "id": "7fnCllv1YJeu",
        "colab_type": "code",
        "colab": {},
        "outputId": "4d02bf17-07e8-4e89-da65-cc308fa33ef5"
      },
      "source": [
        "bateaux_date.groupBy(\"id_vessel\").agg({\"timestamp_readable\": \"min\"}).show()"
      ],
      "execution_count": 0,
      "outputs": [
        {
          "output_type": "display_data",
          "data": {
            "text/html": [
              "<style scoped>\n",
              "  .ansiout {\n",
              "    display: block;\n",
              "    unicode-bidi: embed;\n",
              "    white-space: pre-wrap;\n",
              "    word-wrap: break-word;\n",
              "    word-break: break-all;\n",
              "    font-family: \"Source Code Pro\", \"Menlo\", monospace;;\n",
              "    font-size: 13px;\n",
              "    color: #555;\n",
              "    margin-left: 4px;\n",
              "    line-height: 19px;\n",
              "  }\n",
              "</style>\n",
              "<div class=\"ansiout\">+---------+-----------------------+\n",
              "id_vessel|min(timestamp_readable)|\n",
              "+---------+-----------------------+\n",
              "   128314|    2014-11-14 23:13:17|\n",
              "    61888|    2014-11-14 23:05:25|\n",
              "    30562|    2014-11-14 23:25:32|\n",
              "   206429|    2014-11-14 23:10:58|\n",
              "   115909|    2014-11-14 23:11:31|\n",
              "    54536|    2014-11-14 23:04:09|\n",
              "     2927|    2014-11-14 23:01:47|\n",
              "    25479|    2014-11-14 23:04:06|\n",
              "    96165|    2014-11-14 23:12:46|\n",
              "    49754|    2014-11-14 23:07:50|\n",
              "    38510|    2014-11-14 23:21:19|\n",
              "    64873|    2014-11-14 23:00:34|\n",
              "    98424|    2014-11-14 23:10:24|\n",
              "    63212|    2014-11-14 23:07:08|\n",
              "   100852|    2014-11-14 23:06:56|\n",
              "    39527|    2014-11-14 23:09:43|\n",
              "     8440|    2014-11-14 23:09:43|\n",
              "    69720|    2014-11-14 23:03:34|\n",
              "    10959|    2014-11-14 23:01:51|\n",
              "    22165|    2014-11-14 23:01:39|\n",
              "+---------+-----------------------+\n",
              "only showing top 20 rows\n",
              "\n",
              "</div>"
            ]
          },
          "metadata": {
            "tags": []
          }
        }
      ]
    },
    {
      "cell_type": "code",
      "metadata": {
        "scrolled": false,
        "id": "i3HhDx0BYJew",
        "colab_type": "code",
        "colab": {},
        "outputId": "b8625af5-d03d-43f1-f5c2-d18640c724c5"
      },
      "source": [
        "bateaux_date.groupBy(\"id_vessel\").agg({\"timestamp_readable\": \"max\"}).show()"
      ],
      "execution_count": 0,
      "outputs": [
        {
          "output_type": "display_data",
          "data": {
            "text/html": [
              "<style scoped>\n",
              "  .ansiout {\n",
              "    display: block;\n",
              "    unicode-bidi: embed;\n",
              "    white-space: pre-wrap;\n",
              "    word-wrap: break-word;\n",
              "    word-break: break-all;\n",
              "    font-family: \"Source Code Pro\", \"Menlo\", monospace;;\n",
              "    font-size: 13px;\n",
              "    color: #555;\n",
              "    margin-left: 4px;\n",
              "    line-height: 19px;\n",
              "  }\n",
              "</style>\n",
              "<div class=\"ansiout\">+---------+-----------------------+\n",
              "id_vessel|max(timestamp_readable)|\n",
              "+---------+-----------------------+\n",
              "   128314|    2014-11-14 23:59:37|\n",
              "    61888|    2014-11-14 23:38:53|\n",
              "    30562|    2014-11-14 23:25:32|\n",
              "   206429|    2014-11-14 23:43:59|\n",
              "   115909|    2014-11-14 23:44:01|\n",
              "    54536|    2014-11-14 23:55:08|\n",
              "     2927|    2014-11-14 23:43:15|\n",
              "    25479|    2014-11-14 23:46:06|\n",
              "    96165|    2014-11-14 23:52:46|\n",
              "    49754|    2014-11-14 23:58:00|\n",
              "    38510|    2014-11-14 23:48:20|\n",
              "    64873|    2014-11-14 23:52:52|\n",
              "    98424|    2014-11-14 23:58:48|\n",
              "    63212|    2014-11-14 23:46:15|\n",
              "   100852|    2014-11-14 23:51:56|\n",
              "    39527|    2014-11-14 23:49:53|\n",
              "     8440|    2014-11-14 23:39:44|\n",
              "    69720|    2014-11-14 23:49:43|\n",
              "    10959|    2014-11-14 23:55:22|\n",
              "    22165|    2014-11-14 23:56:09|\n",
              "+---------+-----------------------+\n",
              "only showing top 20 rows\n",
              "\n",
              "</div>"
            ]
          },
          "metadata": {
            "tags": []
          }
        }
      ]
    },
    {
      "cell_type": "markdown",
      "metadata": {
        "id": "M_GkJipWYJex",
        "colab_type": "text"
      },
      "source": [
        "#### Créer un dataframe avec l'id, la vitesse et le timestamp readable"
      ]
    },
    {
      "cell_type": "code",
      "metadata": {
        "id": "-UMvLKCUYJey",
        "colab_type": "code",
        "colab": {},
        "outputId": "b08e0f43-5689-4e3b-c29f-18e566e20e2c"
      },
      "source": [
        "spd = bateaux_date.select([\"id_vessel\",\"speed\",\"timestamp_readable\"])"
      ],
      "execution_count": 0,
      "outputs": [
        {
          "output_type": "display_data",
          "data": {
            "text/html": [
              "<style scoped>\n",
              "  .ansiout {\n",
              "    display: block;\n",
              "    unicode-bidi: embed;\n",
              "    white-space: pre-wrap;\n",
              "    word-wrap: break-word;\n",
              "    word-break: break-all;\n",
              "    font-family: \"Source Code Pro\", \"Menlo\", monospace;;\n",
              "    font-size: 13px;\n",
              "    color: #555;\n",
              "    margin-left: 4px;\n",
              "    line-height: 19px;\n",
              "  }\n",
              "</style>\n",
              "<div class=\"ansiout\"></div>"
            ]
          },
          "metadata": {
            "tags": []
          }
        }
      ]
    },
    {
      "cell_type": "markdown",
      "metadata": {
        "id": "Yuf-axg2YJez",
        "colab_type": "text"
      },
      "source": [
        "#### Créer une colonne mois pour le mois en cours"
      ]
    },
    {
      "cell_type": "code",
      "metadata": {
        "scrolled": true,
        "id": "sjfmxqLQYJe0",
        "colab_type": "code",
        "colab": {},
        "outputId": "f47725ac-68eb-473a-9253-deeadc532178"
      },
      "source": [
        "from pyspark.sql.functions import month\n",
        "spd = spd.withColumn(\"month\", month(bateaux_date[\"timestamp_readable\"]))\n",
        "spd.show()"
      ],
      "execution_count": 0,
      "outputs": [
        {
          "output_type": "display_data",
          "data": {
            "text/html": [
              "<style scoped>\n",
              "  .ansiout {\n",
              "    display: block;\n",
              "    unicode-bidi: embed;\n",
              "    white-space: pre-wrap;\n",
              "    word-wrap: break-word;\n",
              "    word-break: break-all;\n",
              "    font-family: \"Source Code Pro\", \"Menlo\", monospace;;\n",
              "    font-size: 13px;\n",
              "    color: #555;\n",
              "    margin-left: 4px;\n",
              "    line-height: 19px;\n",
              "  }\n",
              "</style>\n",
              "<div class=\"ansiout\">+---------+-----+-------------------+-----+\n",
              "id_vessel|speed| timestamp_readable|month|\n",
              "+---------+-----+-------------------+-----+\n",
              "    70244| null|2014-11-14 23:48:16|   11|\n",
              "    96190| null|2014-11-14 23:27:52|   11|\n",
              "    96190| null|2014-11-14 23:54:13|   11|\n",
              "    86972| null|2014-11-14 23:56:18|   11|\n",
              "   116462| null|2014-11-14 23:58:53|   11|\n",
              "     4440| null|2014-11-14 23:15:22|   11|\n",
              "    17021| null|2014-11-14 23:58:56|   11|\n",
              "   126459| null|2014-11-14 23:13:17|   11|\n",
              "    70391| null|2014-11-14 23:07:36|   11|\n",
              "   128314| null|2014-11-14 23:13:17|   11|\n",
              "     9874| null|2014-11-14 23:07:31|   11|\n",
              "    61519| null|2014-11-14 23:21:43|   11|\n",
              "    60851| null|2014-11-14 23:07:28|   11|\n",
              "   159160| null|2014-11-14 23:26:36|   11|\n",
              "   129426| null|2014-11-14 23:43:57|   11|\n",
              "    38742| null|2014-11-14 23:13:17|   11|\n",
              "   192782| null|2014-11-14 23:56:01|   11|\n",
              "    19409| null|2014-11-14 23:21:43|   11|\n",
              "    54103| null|2014-11-14 23:27:48|   11|\n",
              "    54103| null|2014-11-14 23:27:48|   11|\n",
              "+---------+-----+-------------------+-----+\n",
              "only showing top 20 rows\n",
              "\n",
              "</div>"
            ]
          },
          "metadata": {
            "tags": []
          }
        }
      ]
    },
    {
      "cell_type": "markdown",
      "metadata": {
        "id": "Gy_nHzwcYJe2",
        "colab_type": "text"
      },
      "source": [
        "#### Ajouter une colonne boolean à True si le bateau est en mouvement"
      ]
    },
    {
      "cell_type": "code",
      "metadata": {
        "id": "lPgSGpg0YJe2",
        "colab_type": "code",
        "colab": {},
        "outputId": "a49f66f0-a27e-403d-a6e7-c09938eb356b"
      },
      "source": [
        "spd = spd.withColumn(\"BooleanCol\", spd.speed != 0)"
      ],
      "execution_count": 0,
      "outputs": [
        {
          "output_type": "display_data",
          "data": {
            "text/html": [
              "<style scoped>\n",
              "  .ansiout {\n",
              "    display: block;\n",
              "    unicode-bidi: embed;\n",
              "    white-space: pre-wrap;\n",
              "    word-wrap: break-word;\n",
              "    word-break: break-all;\n",
              "    font-family: \"Source Code Pro\", \"Menlo\", monospace;;\n",
              "    font-size: 13px;\n",
              "    color: #555;\n",
              "    margin-left: 4px;\n",
              "    line-height: 19px;\n",
              "  }\n",
              "</style>\n",
              "<div class=\"ansiout\"></div>"
            ]
          },
          "metadata": {
            "tags": []
          }
        }
      ]
    },
    {
      "cell_type": "markdown",
      "metadata": {
        "collapsed": true,
        "id": "c-obk91sYJe3",
        "colab_type": "text"
      },
      "source": [
        "#### Enregistrer la table"
      ]
    },
    {
      "cell_type": "code",
      "metadata": {
        "id": "DxMG5eF9YJe4",
        "colab_type": "code",
        "colab": {},
        "outputId": "d5e400c1-0ddb-40c1-a764-d189bc242ba1"
      },
      "source": [
        "bateaux.createOrReplaceTempView(\"tab_bateaux\")"
      ],
      "execution_count": 0,
      "outputs": [
        {
          "output_type": "display_data",
          "data": {
            "text/html": [
              "<style scoped>\n",
              "  .ansiout {\n",
              "    display: block;\n",
              "    unicode-bidi: embed;\n",
              "    white-space: pre-wrap;\n",
              "    word-wrap: break-word;\n",
              "    word-break: break-all;\n",
              "    font-family: \"Source Code Pro\", \"Menlo\", monospace;;\n",
              "    font-size: 13px;\n",
              "    color: #555;\n",
              "    margin-left: 4px;\n",
              "    line-height: 19px;\n",
              "  }\n",
              "</style>\n",
              "<div class=\"ansiout\"></div>"
            ]
          },
          "metadata": {
            "tags": []
          }
        }
      ]
    },
    {
      "cell_type": "markdown",
      "metadata": {
        "id": "EkBnI7faYJe5",
        "colab_type": "text"
      },
      "source": [
        "#### Afficher par type, le nombre de bateaux, la vitesse max et la moyenne de la vitesse, ordonnés par nombre de bateaux (requete SQL)"
      ]
    },
    {
      "cell_type": "code",
      "metadata": {
        "scrolled": true,
        "id": "_QD0Gy-CYJe6",
        "colab_type": "code",
        "colab": {},
        "outputId": "87eb9083-d482-450a-9da8-baa216f5548c"
      },
      "source": [
        "spark.sql(\"\"\"SELECT type, max(speed), avg(speed), count(*) as num \n",
        "FROM tab_bateaux \n",
        "GROUP BY type \n",
        "ORDER BY count(*)\"\"\").show()"
      ],
      "execution_count": 0,
      "outputs": [
        {
          "output_type": "display_data",
          "data": {
            "text/html": [
              "<style scoped>\n",
              "  .ansiout {\n",
              "    display: block;\n",
              "    unicode-bidi: embed;\n",
              "    white-space: pre-wrap;\n",
              "    word-wrap: break-word;\n",
              "    word-break: break-all;\n",
              "    font-family: \"Source Code Pro\", \"Menlo\", monospace;;\n",
              "    font-size: 13px;\n",
              "    color: #555;\n",
              "    margin-left: 4px;\n",
              "    line-height: 19px;\n",
              "  }\n",
              "</style>\n",
              "<div class=\"ansiout\">+----+----------+-------------------+---+\n",
              "type|max(speed)|         avg(speed)|num|\n",
              "+----+----------+-------------------+---+\n",
              " 232|       0.0|                0.0|  1|\n",
              " 236|       8.5|                8.5|  1|\n",
              " 240|       4.1| 3.9499999999999997|  2|\n",
              " 113|       0.0|                0.0|  2|\n",
              " 202|       0.0|                0.0|  2|\n",
              " 212|       0.1|               0.05|  2|\n",
              " 229|       3.1|               1.85|  2|\n",
              " 119|       0.0|                0.0|  2|\n",
              " 190|       0.0|                0.0|  2|\n",
              " 199|       4.0| 3.8333333333333335|  3|\n",
              " 149|       5.1| 1.8666666666666665|  3|\n",
              " 244|       0.0|                0.0|  3|\n",
              " 142|       0.0|                0.0|  3|\n",
              " 137|       9.5|  9.233333333333333|  3|\n",
              " 158|       0.0|                0.0|  3|\n",
              " 120|       0.1|0.07500000000000001|  4|\n",
              " 107|       0.0|                0.0|  4|\n",
              " 177|       0.0|                0.0|  4|\n",
              " 145|       0.0|                0.0|  4|\n",
              " 171|       4.5|               2.15|  4|\n",
              "+----+----------+-------------------+---+\n",
              "only showing top 20 rows\n",
              "\n",
              "</div>"
            ]
          },
          "metadata": {
            "tags": []
          }
        }
      ]
    },
    {
      "cell_type": "markdown",
      "metadata": {
        "collapsed": true,
        "id": "LiR1zr67YJe8",
        "colab_type": "text"
      },
      "source": [
        "### Mettons nos compétences au service d'un cas d'usage un peu plus intéressant.\n",
        "Nous allons prendre un bateau de notre choix et nous allons tenter de calculer quels sont les bateaux qu'il a pu croiser sur sa route"
      ]
    },
    {
      "cell_type": "markdown",
      "metadata": {
        "id": "3yaME6yBYJe9",
        "colab_type": "text"
      },
      "source": [
        "#### Créer un nouveau dataframe basé sur le DF bateaux et filtré uniquement sur id_vessel de votre choix.\n",
        "#### Débarassez vous également de la colonne \"payload\" avec la méthode df.drop(\"colonne\")"
      ]
    },
    {
      "cell_type": "code",
      "metadata": {
        "id": "PLQJCX5UYJe9",
        "colab_type": "code",
        "colab": {},
        "outputId": "b1a6063c-fb59-4ef9-af06-c19340e94e64"
      },
      "source": [
        "monBateau.show()"
      ],
      "execution_count": 0,
      "outputs": [
        {
          "output_type": "display_data",
          "data": {
            "text/html": [
              "<style scoped>\n",
              "  .ansiout {\n",
              "    display: block;\n",
              "    unicode-bidi: embed;\n",
              "    white-space: pre-wrap;\n",
              "    word-wrap: break-word;\n",
              "    word-break: break-all;\n",
              "    font-family: \"Source Code Pro\", \"Menlo\", monospace;;\n",
              "    font-size: 13px;\n",
              "    color: #555;\n",
              "    margin-left: 4px;\n",
              "    line-height: 19px;\n",
              "  }\n",
              "</style>\n",
              "<div class=\"ansiout\">+---------+---------+----+------------------+------------------+-------------+-----+-------+--------------------+\n",
              "id_vessel|     mmsi|type|               lat|               lon|timestamp_pos|speed|heading|             payload|\n",
              "+---------+---------+----+------------------+------------------+-------------+-----+-------+--------------------+\n",
              "    28052|345971158|  50|18.437848333333335|-93.18948666666667|1416007969000|  0.0|   null|[5C 73 3A 72 4F 5...|\n",
              "    28052|345971158|  50|18.437856666666665|        -93.189515|1416009589000|  0.0|   null|[5C 73 3A 72 4F 5...|\n",
              "    28052|345971158|  50|18.437848333333335|        -93.189505|1416008808000|  0.0|   null|[5C 73 3A 72 4F 5...|\n",
              "    28052|345971158|  50|18.437866666666668|-93.18950666666667|1416006418000|  0.0|   null|[5C 73 3A 72 4F 5...|\n",
              "    28052|345971158|  50|18.437866666666668|-93.18950333333333|1416007139000|  0.0|   null|[5C 73 3A 72 4F 5...|\n",
              "+---------+---------+----+------------------+------------------+-------------+-----+-------+--------------------+\n",
              "\n",
              "</div>"
            ]
          },
          "metadata": {
            "tags": []
          }
        }
      ]
    },
    {
      "cell_type": "code",
      "metadata": {
        "id": "XvCeb4dsYJe_",
        "colab_type": "code",
        "colab": {},
        "outputId": "e25d9281-814d-47c3-ca19-a79bfa40271b"
      },
      "source": [
        "monBateau = monBateau.drop('payload')\n",
        "monBateau.show()"
      ],
      "execution_count": 0,
      "outputs": [
        {
          "output_type": "display_data",
          "data": {
            "text/html": [
              "<style scoped>\n",
              "  .ansiout {\n",
              "    display: block;\n",
              "    unicode-bidi: embed;\n",
              "    white-space: pre-wrap;\n",
              "    word-wrap: break-word;\n",
              "    word-break: break-all;\n",
              "    font-family: \"Source Code Pro\", \"Menlo\", monospace;;\n",
              "    font-size: 13px;\n",
              "    color: #555;\n",
              "    margin-left: 4px;\n",
              "    line-height: 19px;\n",
              "  }\n",
              "</style>\n",
              "<div class=\"ansiout\">+---------+---------+----+------------------+------------------+-------------+-----+-------+\n",
              "id_vessel|     mmsi|type|               lat|               lon|timestamp_pos|speed|heading|\n",
              "+---------+---------+----+------------------+------------------+-------------+-----+-------+\n",
              "    28052|345971158|  50|18.437848333333335|-93.18948666666667|1416007969000|  0.0|   null|\n",
              "    28052|345971158|  50|18.437856666666665|        -93.189515|1416009589000|  0.0|   null|\n",
              "    28052|345971158|  50|18.437848333333335|        -93.189505|1416008808000|  0.0|   null|\n",
              "    28052|345971158|  50|18.437866666666668|-93.18950666666667|1416006418000|  0.0|   null|\n",
              "    28052|345971158|  50|18.437866666666668|-93.18950333333333|1416007139000|  0.0|   null|\n",
              "+---------+---------+----+------------------+------------------+-------------+-----+-------+\n",
              "\n",
              "</div>"
            ]
          },
          "metadata": {
            "tags": []
          }
        }
      ]
    },
    {
      "cell_type": "markdown",
      "metadata": {
        "id": "uda9KdOXYJfA",
        "colab_type": "text"
      },
      "source": [
        "#### Créer un deuxième dataframe basé sur le DF bateaux, avec les colonnes id_vessel, lat, lon et timestamp_pos\n",
        "#### On transforme nos DF en rdd grâce à la fonction rdd (pas besoin)"
      ]
    },
    {
      "cell_type": "code",
      "metadata": {
        "id": "teixlEO3YJfB",
        "colab_type": "code",
        "colab": {},
        "outputId": "8bc3dd28-e47a-4de7-ea59-7657b8bdd039"
      },
      "source": [
        "bateaux2 = bateaux[[\"id_vessel\", \"lat\", \"lon\", \"timestamp_pos\"]]\n",
        "bateaux2.show()"
      ],
      "execution_count": 0,
      "outputs": [
        {
          "output_type": "display_data",
          "data": {
            "text/html": [
              "<style scoped>\n",
              "  .ansiout {\n",
              "    display: block;\n",
              "    unicode-bidi: embed;\n",
              "    white-space: pre-wrap;\n",
              "    word-wrap: break-word;\n",
              "    word-break: break-all;\n",
              "    font-family: \"Source Code Pro\", \"Menlo\", monospace;;\n",
              "    font-size: 13px;\n",
              "    color: #555;\n",
              "    margin-left: 4px;\n",
              "    line-height: 19px;\n",
              "  }\n",
              "</style>\n",
              "<div class=\"ansiout\">+---------+------------------+-------------------+-------------+\n",
              "id_vessel|               lat|                lon|timestamp_pos|\n",
              "+---------+------------------+-------------------+-------------+\n",
              "    70244|              null|               null|1416008896000|\n",
              "    96190|52.171166666666664| -6.587388333333333|1416007672000|\n",
              "    96190|52.171146666666665| -6.587241666666666|1416009253000|\n",
              "    86972|              null|               null|1416009378000|\n",
              "   116462|              null|               null|1416009533000|\n",
              "     4440|              null|               null|1416006922000|\n",
              "    17021|              null|               null|1416009536000|\n",
              "   126459|         39.285665|          -76.61075|1416006797000|\n",
              "    70391|29.935871666666667| 121.68577666666667|1416006456000|\n",
              "   128314| 47.13505333333333| 38.961803333333336|1416006797000|\n",
              "     9874| 44.72857166666667|  37.78629333333333|1416006451000|\n",
              "    61519| 37.66363166666667|         120.309705|1416007303000|\n",
              "    60851| 34.33177166666667| 133.03930166666666|1416006448000|\n",
              "   159160|24.432866666666666| 117.88066666666667|1416007596000|\n",
              "   129426|38.856276666666666| 118.03631166666666|1416008637000|\n",
              "    38742| 42.75065333333333| 133.08373833333334|1416006797000|\n",
              "   192782|-32.94766666666667|-60.595751666666665|1416009361000|\n",
              "    19409|            29.993| 122.04246166666667|1416007303000|\n",
              "    54103|29.952031666666667| 121.71950666666666|1416007668000|\n",
              "    54103|29.952031666666667| 121.71950666666666|1416007668000|\n",
              "+---------+------------------+-------------------+-------------+\n",
              "only showing top 20 rows\n",
              "\n",
              "</div>"
            ]
          },
          "metadata": {
            "tags": []
          }
        }
      ]
    },
    {
      "cell_type": "markdown",
      "metadata": {
        "id": "MB4Qhzg4YJfC",
        "colab_type": "text"
      },
      "source": [
        "#### On calcule le nombre d'enregistrements associés à notre bateau\n",
        " \n",
        "#### On calcule le nombre d'enregistrements du RDD de référence"
      ]
    },
    {
      "cell_type": "code",
      "metadata": {
        "id": "msnXl6UBYJfD",
        "colab_type": "code",
        "colab": {},
        "outputId": "918ac663-4603-4a3e-86e9-3fa7d5e61279"
      },
      "source": [
        "print(monBateau.count(), bateaux2.count())\n",
        "print((monBateau.count() * bateaux2.count()))"
      ],
      "execution_count": 0,
      "outputs": [
        {
          "output_type": "display_data",
          "data": {
            "text/html": [
              "<style scoped>\n",
              "  .ansiout {\n",
              "    display: block;\n",
              "    unicode-bidi: embed;\n",
              "    white-space: pre-wrap;\n",
              "    word-wrap: break-word;\n",
              "    word-break: break-all;\n",
              "    font-family: \"Source Code Pro\", \"Menlo\", monospace;;\n",
              "    font-size: 13px;\n",
              "    color: #555;\n",
              "    margin-left: 4px;\n",
              "    line-height: 19px;\n",
              "  }\n",
              "</style>\n",
              "<div class=\"ansiout\">5 314943\n",
              "1574715\n",
              "</div>"
            ]
          },
          "metadata": {
            "tags": []
          }
        }
      ]
    },
    {
      "cell_type": "markdown",
      "metadata": {
        "id": "R1ngq78JYJfE",
        "colab_type": "text"
      },
      "source": [
        "##### Créer un RDD batEtude produit cartesien de notre RDD bateau et du RDD référentiel"
      ]
    },
    {
      "cell_type": "code",
      "metadata": {
        "id": "9lWo1PuoYJfF",
        "colab_type": "code",
        "colab": {},
        "outputId": "32e5797e-e673-4bab-b916-0f3544892b7f"
      },
      "source": [
        "from pyspark.sql.functions import col\n",
        "\n",
        "monBateau = monBateau.select(col(\"id_vessel\").alias(\"my_id_vessel\"), col(\"lat\").alias(\"my_lat\"), col(\"lon\").alias(\"my_lon\"), col(\"timestamp_pos\").alias(\"my_timestamp_pos\"))\n",
        "monBateau.show()"
      ],
      "execution_count": 0,
      "outputs": [
        {
          "output_type": "display_data",
          "data": {
            "text/html": [
              "<style scoped>\n",
              "  .ansiout {\n",
              "    display: block;\n",
              "    unicode-bidi: embed;\n",
              "    white-space: pre-wrap;\n",
              "    word-wrap: break-word;\n",
              "    word-break: break-all;\n",
              "    font-family: \"Source Code Pro\", \"Menlo\", monospace;;\n",
              "    font-size: 13px;\n",
              "    color: #555;\n",
              "    margin-left: 4px;\n",
              "    line-height: 19px;\n",
              "  }\n",
              "</style>\n",
              "<div class=\"ansiout\">+------------+------------------+------------------+----------------+\n",
              "my_id_vessel|            my_lat|            my_lon|my_timestamp_pos|\n",
              "+------------+------------------+------------------+----------------+\n",
              "       28052|18.437848333333335|-93.18948666666667|   1416007969000|\n",
              "       28052|18.437856666666665|        -93.189515|   1416009589000|\n",
              "       28052|18.437848333333335|        -93.189505|   1416008808000|\n",
              "       28052|18.437866666666668|-93.18950666666667|   1416006418000|\n",
              "       28052|18.437866666666668|-93.18950333333333|   1416007139000|\n",
              "+------------+------------------+------------------+----------------+\n",
              "\n",
              "</div>"
            ]
          },
          "metadata": {
            "tags": []
          }
        }
      ]
    },
    {
      "cell_type": "code",
      "metadata": {
        "id": "joLEumUEYJfG",
        "colab_type": "code",
        "colab": {},
        "outputId": "4aafc921-bee9-45da-f138-55a33a800e5c"
      },
      "source": [
        "batEtude = monBateau.crossJoin(bateaux2)\n",
        "batEtude.count()"
      ],
      "execution_count": 0,
      "outputs": [
        {
          "output_type": "display_data",
          "data": {
            "text/html": [
              "<style scoped>\n",
              "  .ansiout {\n",
              "    display: block;\n",
              "    unicode-bidi: embed;\n",
              "    white-space: pre-wrap;\n",
              "    word-wrap: break-word;\n",
              "    word-break: break-all;\n",
              "    font-family: \"Source Code Pro\", \"Menlo\", monospace;;\n",
              "    font-size: 13px;\n",
              "    color: #555;\n",
              "    margin-left: 4px;\n",
              "    line-height: 19px;\n",
              "  }\n",
              "</style>\n",
              "<div class=\"ansiout\"><span class=\"ansired\">Out[</span><span class=\"ansired\">54</span><span class=\"ansired\">]: </span>1574715</div>"
            ]
          },
          "metadata": {
            "tags": []
          }
        }
      ]
    },
    {
      "cell_type": "markdown",
      "metadata": {
        "id": "q5mj9yKoYJfI",
        "colab_type": "text"
      },
      "source": [
        "##### On affiche la première ligne pour analyser son contenu\n",
        "##### Astuce : n'oubliez pas que l'on est maintenant sur des RDD"
      ]
    },
    {
      "cell_type": "code",
      "metadata": {
        "id": "23VYClbTYJfI",
        "colab_type": "code",
        "colab": {},
        "outputId": "7757cc12-8d31-45cf-8ef9-a05866ae70b8"
      },
      "source": [
        "batEtude.take(1)"
      ],
      "execution_count": 0,
      "outputs": [
        {
          "output_type": "display_data",
          "data": {
            "text/html": [
              "<style scoped>\n",
              "  .ansiout {\n",
              "    display: block;\n",
              "    unicode-bidi: embed;\n",
              "    white-space: pre-wrap;\n",
              "    word-wrap: break-word;\n",
              "    word-break: break-all;\n",
              "    font-family: \"Source Code Pro\", \"Menlo\", monospace;;\n",
              "    font-size: 13px;\n",
              "    color: #555;\n",
              "    margin-left: 4px;\n",
              "    line-height: 19px;\n",
              "  }\n",
              "</style>\n",
              "<div class=\"ansiout\"><span class=\"ansired\">Out[</span><span class=\"ansired\">55</span><span class=\"ansired\">]: </span>[Row(my_id_vessel=28052, my_lat=18.437848333333335, my_lon=-93.18948666666667, my_timestamp_pos=1416007969000, id_vessel=4440, lat=None, lon=None, timestamp_pos=1416006922000)]</div>"
            ]
          },
          "metadata": {
            "tags": []
          }
        }
      ]
    },
    {
      "cell_type": "markdown",
      "metadata": {
        "id": "GvjA9TblYJfK",
        "colab_type": "text"
      },
      "source": [
        "##### On pourrait s'amuser à compter le nombre de lignes totales du RDD.. mais c'est une action !\n",
        "##### Il est possible que cela prenne un peu de temps selon la taille de votre RDD contenant un seul id_vessel"
      ]
    },
    {
      "cell_type": "markdown",
      "metadata": {
        "id": "w9Mbwi05YJfL",
        "colab_type": "text"
      },
      "source": [
        "##### B4 - Filtrer notre produit cartésien pour éliminer les bateaux identiques à notre id_vessel choisi\n",
        "##### Astuce : notre RDD batEtude est composé de tuples(bateau,bateauRef)"
      ]
    },
    {
      "cell_type": "code",
      "metadata": {
        "id": "7kbl1Gg9YJfL",
        "colab_type": "code",
        "colab": {},
        "outputId": "fa0cba03-b8a6-4b65-9bc7-d48f8d208754"
      },
      "source": [
        "batEtude.columns"
      ],
      "execution_count": 0,
      "outputs": [
        {
          "output_type": "display_data",
          "data": {
            "text/html": [
              "<style scoped>\n",
              "  .ansiout {\n",
              "    display: block;\n",
              "    unicode-bidi: embed;\n",
              "    white-space: pre-wrap;\n",
              "    word-wrap: break-word;\n",
              "    word-break: break-all;\n",
              "    font-family: \"Source Code Pro\", \"Menlo\", monospace;;\n",
              "    font-size: 13px;\n",
              "    color: #555;\n",
              "    margin-left: 4px;\n",
              "    line-height: 19px;\n",
              "  }\n",
              "</style>\n",
              "<div class=\"ansiout\"><span class=\"ansired\">Out[</span><span class=\"ansired\">56</span><span class=\"ansired\">]: </span>[&apos;my_id_vessel&apos;,\n",
              " &apos;my_lat&apos;,\n",
              " &apos;my_lon&apos;,\n",
              " &apos;my_timestamp_pos&apos;,\n",
              " &apos;id_vessel&apos;,\n",
              " &apos;lat&apos;,\n",
              " &apos;lon&apos;,\n",
              " &apos;timestamp_pos&apos;]</div>"
            ]
          },
          "metadata": {
            "tags": []
          }
        }
      ]
    },
    {
      "cell_type": "code",
      "metadata": {
        "id": "o5WgBIUVYJfN",
        "colab_type": "code",
        "colab": {},
        "outputId": "4b028c3d-e603-4166-bf83-bff932153e62"
      },
      "source": [
        "filtered = batEtude.filter(batEtude.id_vessel != batEtude.my_id_vessel)\n",
        "filtered.count()"
      ],
      "execution_count": 0,
      "outputs": [
        {
          "output_type": "display_data",
          "data": {
            "text/html": [
              "<style scoped>\n",
              "  .ansiout {\n",
              "    display: block;\n",
              "    unicode-bidi: embed;\n",
              "    white-space: pre-wrap;\n",
              "    word-wrap: break-word;\n",
              "    word-break: break-all;\n",
              "    font-family: \"Source Code Pro\", \"Menlo\", monospace;;\n",
              "    font-size: 13px;\n",
              "    color: #555;\n",
              "    margin-left: 4px;\n",
              "    line-height: 19px;\n",
              "  }\n",
              "</style>\n",
              "<div class=\"ansiout\"><span class=\"ansired\">Out[</span><span class=\"ansired\">60</span><span class=\"ansired\">]: </span>1574690</div>"
            ]
          },
          "metadata": {
            "tags": []
          }
        }
      ]
    },
    {
      "cell_type": "markdown",
      "metadata": {
        "id": "AqH4rcjNYJfP",
        "colab_type": "text"
      },
      "source": [
        "##### On va également filtrer les informations des bateaux pour ne conserver que les enregistrements à +/- une heure (3600s)"
      ]
    },
    {
      "cell_type": "code",
      "metadata": {
        "id": "RHsjpj3NYJfQ",
        "colab_type": "code",
        "colab": {},
        "outputId": "753e6e8b-1b92-4028-f26b-7d2731793b07"
      },
      "source": [
        "#heure = 1416007969000\n",
        "filtered2 = filtered.filter((filtered.my_timestamp_pos <= (filtered.timestamp_pos + 3600)) & (filtered.my_timestamp_pos >= (filtered.timestamp_pos - 3600)))\n",
        "filtered2.count()\n",
        "\n",
        "#filtered2 = filtered.filter(abs(filtered.my_timestamp_pos - filtered.timestamp_pos) < 3600)\n",
        "#filtered2.count()"
      ],
      "execution_count": 0,
      "outputs": [
        {
          "output_type": "display_data",
          "data": {
            "text/html": [
              "<style scoped>\n",
              "  .ansiout {\n",
              "    display: block;\n",
              "    unicode-bidi: embed;\n",
              "    white-space: pre-wrap;\n",
              "    word-wrap: break-word;\n",
              "    word-break: break-all;\n",
              "    font-family: \"Source Code Pro\", \"Menlo\", monospace;;\n",
              "    font-size: 13px;\n",
              "    color: #555;\n",
              "    margin-left: 4px;\n",
              "    line-height: 19px;\n",
              "  }\n",
              "</style>\n",
              "<div class=\"ansiout\"><span class=\"ansired\">Out[</span><span class=\"ansired\">108</span><span class=\"ansired\">]: </span>3021</div>"
            ]
          },
          "metadata": {
            "tags": []
          }
        }
      ]
    },
    {
      "cell_type": "code",
      "metadata": {
        "id": "uQTD-UmvYJfS",
        "colab_type": "code",
        "colab": {},
        "outputId": "e5a4990b-e4d2-4100-c56c-131243cecff9"
      },
      "source": [
        "from pyspark.sql import functions as F\n",
        "from pyspark.sql.types import LongType\n",
        "@F.udf(returnType=LongType())\n",
        "def calculateDistanceInKilometer(userlat, userlon, otherlat, otherlon):\n",
        "    AVERAGE_RADIUS_OF_EARTH_KM = 6371\n",
        "    latDistance = math.radians(userlat - otherlat)\n",
        "    lngDistance = math.radians(userlon - otherlon)\n",
        "    sinLat = math.sin(latDistance / 2)\n",
        "    sinLng = math.sin(lngDistance / 2)\n",
        "    a = sinLat * sinLat + (math.cos(math.radians(userlat)) * math.cos(math.radians(otherlat))* sinLng * sinLng)\n",
        "    c = 2 * math.atan2(math.sqrt(a), math.sqrt(1 - a))\n",
        "    return int(AVERAGE_RADIUS_OF_EARTH_KM * c)"
      ],
      "execution_count": 0,
      "outputs": [
        {
          "output_type": "display_data",
          "data": {
            "text/html": [
              "<style scoped>\n",
              "  .ansiout {\n",
              "    display: block;\n",
              "    unicode-bidi: embed;\n",
              "    white-space: pre-wrap;\n",
              "    word-wrap: break-word;\n",
              "    word-break: break-all;\n",
              "    font-family: \"Source Code Pro\", \"Menlo\", monospace;;\n",
              "    font-size: 13px;\n",
              "    color: #555;\n",
              "    margin-left: 4px;\n",
              "    line-height: 19px;\n",
              "  }\n",
              "</style>\n",
              "<div class=\"ansiout\"></div>"
            ]
          },
          "metadata": {
            "tags": []
          }
        }
      ]
    },
    {
      "cell_type": "markdown",
      "metadata": {
        "id": "aKN3sG5dYJfW",
        "colab_type": "text"
      },
      "source": [
        "### Filtrer notre RDD en ne conservant que les bateaux pour lesquels la distance est inférieure à 1 km\n",
        "La méthode calculateDistanceInKilometer(lat,lon,lat,long) renvoi la distance en kilomètres entre deux coordonnées"
      ]
    },
    {
      "cell_type": "code",
      "metadata": {
        "id": "WjOI3lf4YJfW",
        "colab_type": "code",
        "colab": {},
        "outputId": "7bb2185d-d671-466d-b8ad-e92d13a67f52"
      },
      "source": [
        "import math\n",
        "import numpy as np\n",
        "#filtered3 = filtered2.fillna(float(np.NaN))\n",
        "filtered3 = filtered2.dropna()\n",
        "filtered3.show()"
      ],
      "execution_count": 0,
      "outputs": [
        {
          "output_type": "display_data",
          "data": {
            "text/html": [
              "<style scoped>\n",
              "  .ansiout {\n",
              "    display: block;\n",
              "    unicode-bidi: embed;\n",
              "    white-space: pre-wrap;\n",
              "    word-wrap: break-word;\n",
              "    word-break: break-all;\n",
              "    font-family: \"Source Code Pro\", \"Menlo\", monospace;;\n",
              "    font-size: 13px;\n",
              "    color: #555;\n",
              "    margin-left: 4px;\n",
              "    line-height: 19px;\n",
              "  }\n",
              "</style>\n",
              "<div class=\"ansiout\">+------------+------------------+------------------+----------------+---------+-------------------+-------------------+-------------+\n",
              "my_id_vessel|            my_lat|            my_lon|my_timestamp_pos|id_vessel|                lat|                lon|timestamp_pos|\n",
              "+------------+------------------+------------------+----------------+---------+-------------------+-------------------+-------------+\n",
              "       28052|18.437848333333335|-93.18948666666667|   1416007969000|    44849| 22.167656666666666|          113.44122|1416007966000|\n",
              "       28052|18.437848333333335|-93.18948666666667|   1416007969000|    71025|          21.929145|           113.2102|1416007966000|\n",
              "       28052|18.437848333333335|-93.18948666666667|   1416007969000|    44849| 22.167656666666666|          113.44122|1416007966000|\n",
              "       28052|18.437848333333335|-93.18948666666667|   1416007969000|     8120|  42.76967166666667|         133.016045|1416007969000|\n",
              "       28052|18.437848333333335|-93.18948666666667|   1416007969000|     6750| 18.433628333333335| -93.18374333333334|1416007969000|\n",
              "       28052|18.437848333333335|-93.18948666666667|   1416007969000|    61001| 51.262116666666664|  4.288133333333334|1416007967000|\n",
              "       28052|18.437848333333335|-93.18948666666667|   1416007969000|    26393| 34.841181666666664| 128.42653833333333|1416007967000|\n",
              "       28052|18.437848333333335|-93.18948666666667|   1416007969000|    18050|  68.08712166666666|           13.22675|1416007967000|\n",
              "       28052|18.437848333333335|-93.18948666666667|   1416007969000|    70530| 41.922223333333335| -73.97139666666666|1416007969000|\n",
              "       28052|18.437848333333335|-93.18948666666667|   1416007969000|    48025|-19.810033333333333|           34.83399|1416007969000|\n",
              "       28052|18.437848333333335|-93.18948666666667|   1416007969000|     1833|          20.051415|         110.320075|1416007967000|\n",
              "       28052|18.437848333333335|-93.18948666666667|   1416007969000|     1833|          20.051415|         110.320075|1416007967000|\n",
              "       28052|18.437848333333335|-93.18948666666667|   1416007969000|   182002| 58.304226666666665| 11.698416666666667|1416007969000|\n",
              "       28052|18.437848333333335|-93.18948666666667|   1416007969000|   160989|           62.85052|  7.141146666666667|1416007967000|\n",
              "       28052|18.437848333333335|-93.18948666666667|   1416007969000|    69512|  42.77183333333333| 132.88871666666665|1416007967000|\n",
              "       28052|18.437848333333335|-93.18948666666667|   1416007969000|    59012| 58.651833333333336|           9.140515|1416007967000|\n",
              "       28052|18.437848333333335|-93.18948666666667|   1416007969000|    52012|           47.03621|  38.90099333333333|1416007967000|\n",
              "       28052|18.437848333333335|-93.18948666666667|   1416007969000|    30554| 49.294756666666665|-123.13234833333334|1416007969000|\n",
              "       28052|18.437848333333335|-93.18948666666667|   1416007969000|    82083|  27.83151833333333|         120.855315|1416007967000|\n",
              "       28052|18.437848333333335|-93.18948666666667|   1416007969000|   217341|          27.830735| 120.98736166666667|1416007967000|\n",
              "+------------+------------------+------------------+----------------+---------+-------------------+-------------------+-------------+\n",
              "only showing top 20 rows\n",
              "\n",
              "</div>"
            ]
          },
          "metadata": {
            "tags": []
          }
        }
      ]
    },
    {
      "cell_type": "code",
      "metadata": {
        "id": "G7CdvpoVYJfZ",
        "colab_type": "code",
        "colab": {},
        "outputId": "2aae302e-f941-4a73-be38-46acb020df0f"
      },
      "source": [
        " filtered3.dtypes"
      ],
      "execution_count": 0,
      "outputs": [
        {
          "output_type": "display_data",
          "data": {
            "text/html": [
              "<style scoped>\n",
              "  .ansiout {\n",
              "    display: block;\n",
              "    unicode-bidi: embed;\n",
              "    white-space: pre-wrap;\n",
              "    word-wrap: break-word;\n",
              "    word-break: break-all;\n",
              "    font-family: \"Source Code Pro\", \"Menlo\", monospace;;\n",
              "    font-size: 13px;\n",
              "    color: #555;\n",
              "    margin-left: 4px;\n",
              "    line-height: 19px;\n",
              "  }\n",
              "</style>\n",
              "<div class=\"ansiout\"><span class=\"ansired\">Out[</span><span class=\"ansired\">117</span><span class=\"ansired\">]: </span>[(&apos;my_id_vessel&apos;, &apos;bigint&apos;),\n",
              " (&apos;my_lat&apos;, &apos;double&apos;),\n",
              " (&apos;my_lon&apos;, &apos;double&apos;),\n",
              " (&apos;my_timestamp_pos&apos;, &apos;bigint&apos;),\n",
              " (&apos;id_vessel&apos;, &apos;bigint&apos;),\n",
              " (&apos;lat&apos;, &apos;double&apos;),\n",
              " (&apos;lon&apos;, &apos;double&apos;),\n",
              " (&apos;timestamp_pos&apos;, &apos;bigint&apos;)]</div>"
            ]
          },
          "metadata": {
            "tags": []
          }
        }
      ]
    },
    {
      "cell_type": "code",
      "metadata": {
        "id": "5eLmab09YJfa",
        "colab_type": "code",
        "colab": {},
        "outputId": "a5bdfe22-fb58-48b6-9766-afeceafa2b4c"
      },
      "source": [
        "from pyspark.sql.types import FloatType\n",
        "cols = ['my_lat', 'my_lon', 'lat', 'lon']\n",
        "\n",
        "dataframe_temp = filtered3\n",
        "\n",
        "for col_name in cols:\n",
        "  dataframe_temp = dataframe_temp.withColumn(col_name, col(col_name).cast('float'))\n",
        "\n",
        "dataframe_temp.dtypes  "
      ],
      "execution_count": 0,
      "outputs": [
        {
          "output_type": "display_data",
          "data": {
            "text/html": [
              "<style scoped>\n",
              "  .ansiout {\n",
              "    display: block;\n",
              "    unicode-bidi: embed;\n",
              "    white-space: pre-wrap;\n",
              "    word-wrap: break-word;\n",
              "    word-break: break-all;\n",
              "    font-family: \"Source Code Pro\", \"Menlo\", monospace;;\n",
              "    font-size: 13px;\n",
              "    color: #555;\n",
              "    margin-left: 4px;\n",
              "    line-height: 19px;\n",
              "  }\n",
              "</style>\n",
              "<div class=\"ansiout\"><span class=\"ansired\">Out[</span><span class=\"ansired\">115</span><span class=\"ansired\">]: </span>[(&apos;my_id_vessel&apos;, &apos;bigint&apos;),\n",
              " (&apos;my_lat&apos;, &apos;float&apos;),\n",
              " (&apos;my_lon&apos;, &apos;float&apos;),\n",
              " (&apos;my_timestamp_pos&apos;, &apos;bigint&apos;),\n",
              " (&apos;id_vessel&apos;, &apos;bigint&apos;),\n",
              " (&apos;lat&apos;, &apos;float&apos;),\n",
              " (&apos;lon&apos;, &apos;float&apos;),\n",
              " (&apos;timestamp_pos&apos;, &apos;bigint&apos;)]</div>"
            ]
          },
          "metadata": {
            "tags": []
          }
        }
      ]
    },
    {
      "cell_type": "code",
      "metadata": {
        "id": "PxuyI0nVYJfc",
        "colab_type": "code",
        "colab": {},
        "outputId": "8d07c9ef-6916-469e-f4a6-7a811475efea"
      },
      "source": [
        "from pyspark.sql.functions import udf\n",
        "from pyspark.sql.types import FloatType, ArrayType\n",
        "filtered4 = dataframe_temp.filter(calculateDistanceInKilometer(dataframe_temp.my_lat, dataframe_temp.my_lon, dataframe_temp.lat, dataframe_temp.lon) < 1.0)\n",
        "filtered4.show()"
      ],
      "execution_count": 0,
      "outputs": [
        {
          "output_type": "display_data",
          "data": {
            "text/html": [
              "<style scoped>\n",
              "  .ansiout {\n",
              "    display: block;\n",
              "    unicode-bidi: embed;\n",
              "    white-space: pre-wrap;\n",
              "    word-wrap: break-word;\n",
              "    word-break: break-all;\n",
              "    font-family: \"Source Code Pro\", \"Menlo\", monospace;;\n",
              "    font-size: 13px;\n",
              "    color: #555;\n",
              "    margin-left: 4px;\n",
              "    line-height: 19px;\n",
              "  }\n",
              "</style>\n",
              "<div class=\"ansiout\">+------------+---------+---------+----------------+---------+---------+---------+-------------+\n",
              "my_id_vessel|   my_lat|   my_lon|my_timestamp_pos|id_vessel|      lat|      lon|timestamp_pos|\n",
              "+------------+---------+---------+----------------+---------+---------+---------+-------------+\n",
              "       28052|18.437849|-93.18948|   1416007969000|     6750|18.433628|-93.18375|1416007969000|\n",
              "       28052|18.437849|-93.18948|   1416007969000|    85833|   18.432|-93.18712|1416007969000|\n",
              "       28052|18.437849|-93.18948|   1416007969000|   151508|18.432825|-93.18878|1416007969000|\n",
              "+------------+---------+---------+----------------+---------+---------+---------+-------------+\n",
              "\n",
              "</div>"
            ]
          },
          "metadata": {
            "tags": []
          }
        }
      ]
    }
  ]
}